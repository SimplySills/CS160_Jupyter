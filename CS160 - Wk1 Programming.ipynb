{
 "cells": [
  {
   "cell_type": "markdown",
   "id": "2daec733",
   "metadata": {},
   "source": [
    "# Introduction to Variables and Expressions"
   ]
  },
  {
   "cell_type": "markdown",
   "id": "b5fd5fd1",
   "metadata": {},
   "source": [
    "## Assigning Values to Variables\n",
    "- Variables are used to store and manipulate data\n",
    "- Assignment is done using the \"=\" operator\n",
    "- Syntax: variable_name = value"
   ]
  },
  {
   "cell_type": "code",
   "execution_count": null,
   "id": "3048a604",
   "metadata": {},
   "outputs": [],
   "source": [
    "x = 5\n",
    "y = \"Hello\""
   ]
  },
  {
   "cell_type": "markdown",
   "id": "b00c6aa3",
   "metadata": {},
   "source": [
    "<br>\n",
    "\n",
    "## Assignement Order is Important"
   ]
  },
  {
   "cell_type": "code",
   "execution_count": null,
   "id": "1ab6fb34",
   "metadata": {},
   "outputs": [],
   "source": [
    "5 = x\n",
    "\"Hello\" = y"
   ]
  },
  {
   "cell_type": "markdown",
   "id": "637d72d7",
   "metadata": {},
   "source": [
    "<br>\n",
    "\n",
    "## Basic Data Types\n",
    "- Data types define the kind of data a variable can hold\n",
    "- Python has several built-in data types:\n",
    "  - Numeric types: int, float\n",
    "  - Text type: str, char\n",
    "  - Boolean type: bool"
   ]
  },
  {
   "cell_type": "code",
   "execution_count": null,
   "id": "9c81f291",
   "metadata": {},
   "outputs": [],
   "source": [
    "x = 5              # integer\n",
    "y = 3.14           # float / double\n",
    "name = \"John\"      # string\n",
    "is_student = True  # boolean"
   ]
  },
  {
   "cell_type": "markdown",
   "id": "732fb98a",
   "metadata": {},
   "source": [
    "<br>\n",
    "\n",
    "## Comments\n",
    "- Comments are used to add explanatory notes to code; increasing readability and maintainability\n",
    "- In Python, comments start with the `#` symbol and extend until the end of the line\n",
    "- Comments are ignored by the Python interpreter"
   ]
  },
  {
   "cell_type": "code",
   "execution_count": null,
   "id": "8b87788c",
   "metadata": {},
   "outputs": [],
   "source": [
    "# Hello, world!"
   ]
  },
  {
   "cell_type": "markdown",
   "id": "309826da",
   "metadata": {},
   "source": [
    "- If need be, comments can be multiline by using triple quotes, ''' OR \"\"\""
   ]
  },
  {
   "cell_type": "code",
   "execution_count": null,
   "id": "358b1ff9",
   "metadata": {},
   "outputs": [],
   "source": [
    "# Hello,\n",
    "world!"
   ]
  },
  {
   "cell_type": "code",
   "execution_count": null,
   "id": "f5300dbb",
   "metadata": {},
   "outputs": [],
   "source": [
    "'''Hello,\n",
    "\n",
    "\n",
    "world!'''"
   ]
  },
  {
   "cell_type": "markdown",
   "id": "5f0f81b9",
   "metadata": {},
   "source": [
    "<br>\n",
    "\n",
    "## Variable Naming Rules\n",
    "- Variable names must start with a letter (a-z, A-Z) or underscore (_)\n",
    "- Can contain letters, digits (0-9), and underscores\n",
    "- Case-sensitive: myVar and myvar are different variables\n",
    "- Cannot use Python keywords as variable names. Examples of common Python keywords:\n",
    "  - if, else, elif, for, while, def, return, import, class, try, except, and, or, not, in, is"
   ]
  },
  {
   "cell_type": "code",
   "execution_count": null,
   "id": "c72e4fb1",
   "metadata": {},
   "outputs": [],
   "source": [
    "# Valid variable names\n",
    "age = 25\n",
    "_score = 100\n",
    "first_name = \"John\""
   ]
  },
  {
   "cell_type": "code",
   "execution_count": null,
   "id": "c4118603",
   "metadata": {},
   "outputs": [],
   "source": [
    "# Invalid variable names\n",
    "2x = 10  # Cannot start with a digit\n",
    "my-var = 5  # Cannot use hyphens\n",
    "if = 20"
   ]
  },
  {
   "cell_type": "markdown",
   "id": "7b98a231",
   "metadata": {},
   "source": [
    "<br>\n",
    "\n",
    "## Naming Conventions\n",
    "- Use meaningful and descriptive names for variables\n",
    "- Follow consistent naming conventions\n",
    "  - Snake case: lowercase words separated by underscores (e.g., first_name)\n",
    "  - Camel case: each word starts with a capital letter, no spaces (e.g., firstName)"
   ]
  },
  {
   "cell_type": "code",
   "execution_count": null,
   "id": "c4b5bc59",
   "metadata": {},
   "outputs": [],
   "source": [
    "# Meaningful variable names (snake_case)\n",
    "student_name = \"Alice\"\n",
    "math_score = 85\n",
    "science_score = 92\n",
    "\n",
    "# Meaningful variable names (camelCase)\n",
    "studentName = \"Alice\"\n",
    "mathScore = 85\n",
    "scienceScore = 92"
   ]
  },
  {
   "cell_type": "markdown",
   "id": "b2850fb2",
   "metadata": {},
   "source": [
    "<br>\n",
    "\n",
    "## Arithmetic Expressions\n",
    "- Expressions combine values, variables, and operators to perform computations\n",
    "- Arithmetic operators: +, -, *, /, //, %, **"
   ]
  },
  {
   "cell_type": "code",
   "execution_count": null,
   "id": "77375549",
   "metadata": {},
   "outputs": [],
   "source": [
    "x = 10\n",
    "y = 5\n",
    "result = x + y * 2\n",
    "print(result)  # Output: 20"
   ]
  },
  {
   "cell_type": "markdown",
   "id": "a397d790",
   "metadata": {},
   "source": [
    "<br>\n",
    "\n",
    "## Order of Operations\n",
    "- Python follows the standard order of operations (PEMDAS)\n",
    "  - Parentheses, Exponents, Multiplication/Division, Addition/Subtraction\n",
    "- Use parentheses to override the default order"
   ]
  },
  {
   "cell_type": "code",
   "execution_count": null,
   "id": "c61128ce",
   "metadata": {},
   "outputs": [],
   "source": [
    "x = 5 + 3 * 2\n",
    "print(x)  # Output: 11\n",
    "\n",
    "y = (5 + 3) * 2\n",
    "print(y)  # Output: 16"
   ]
  },
  {
   "cell_type": "markdown",
   "id": "77dff400",
   "metadata": {},
   "source": [
    "<br>\n",
    "\n",
    "## Integer Division and Modulo\n",
    "- Integer division (//) returns the quotient as an integer\n",
    "- Modulo (%) returns the remainder of a division"
   ]
  },
  {
   "cell_type": "code",
   "execution_count": null,
   "id": "e330c595",
   "metadata": {},
   "outputs": [],
   "source": [
    "x = 15 // 4\n",
    "print(x)  # Output: 3\n",
    "\n",
    "y = 15 % 4\n",
    "print(y)  # Output: 3"
   ]
  },
  {
   "cell_type": "markdown",
   "id": "c1be7501",
   "metadata": {},
   "source": [
    "<br>\n",
    "\n",
    "## Arithmetic Operations Table\n",
    "- Summary of arithmetic operations in Python\n",
    "\n",
    "| Expression | Arithmetic Meaning |\n",
    "|------------|-------------------|\n",
    "| a + b      | Addition          |\n",
    "| a - b      | Subtraction       |\n",
    "| a * b      | Multiplication    |\n",
    "| a / b      | Division          |\n",
    "| a // b     | Integer Division  |\n",
    "| a % b      | Modulo            |\n",
    "| a ** b     | Exponentiation    |\n",
    "| -a         | Negation          |"
   ]
  },
  {
   "cell_type": "markdown",
   "id": "7bfdefd3",
   "metadata": {},
   "source": [
    "<br>\n",
    "\n",
    "## Assigning and Reassigning Variables\n",
    "- Variables can be reassigned to new values\n",
    "- Previous value is overwritten"
   ]
  },
  {
   "cell_type": "code",
   "execution_count": null,
   "id": "d365e021",
   "metadata": {},
   "outputs": [],
   "source": [
    "x = 5\n",
    "print(x)  # Output: 5\n",
    "\n",
    "x = 10\n",
    "print(x)  # Output: 10\n",
    "\n",
    "x = \"fifteen\"\n",
    "print(x) # Output: \"fifteen\""
   ]
  },
  {
   "cell_type": "markdown",
   "id": "382a872c",
   "metadata": {},
   "source": [
    "- Can assign variables to other variables"
   ]
  },
  {
   "cell_type": "code",
   "execution_count": null,
   "id": "8809e6e7",
   "metadata": {},
   "outputs": [],
   "source": [
    "# Initialize\n",
    "y = 0\n",
    "x = 5\n",
    "\n",
    "# Reassign\n",
    "y = x\n",
    "x = 10\n",
    "print(y)  # Output: 5\n",
    "print(x)  # Output: 10"
   ]
  },
  {
   "cell_type": "markdown",
   "id": "b67a3fdc",
   "metadata": {},
   "source": [
    "- Conversion is instant. Don't overwrite what you will need later!"
   ]
  },
  {
   "cell_type": "code",
   "execution_count": null,
   "id": "263b1d61",
   "metadata": {},
   "outputs": [],
   "source": [
    "# Initialize\n",
    "y = 0\n",
    "x = 5\n",
    "\n",
    "# Reassign\n",
    "y = x\n",
    "x = y\n",
    "print(y)\n",
    "print(x)"
   ]
  },
  {
   "cell_type": "markdown",
   "id": "38d389f0",
   "metadata": {},
   "source": [
    "<br>\n",
    "\n",
    "## Formatting Strings and Output"
   ]
  },
  {
   "cell_type": "code",
   "execution_count": null,
   "id": "8399c8dc",
   "metadata": {},
   "outputs": [],
   "source": [
    "radius = 4.5\n",
    "pi = 3.14159\n",
    "area = pi * (radius ** 2)\n",
    "print(\"The area of a circle with radius\")\n",
    "print(radius)\n",
    "print(\"is:\")\n",
    "print(area)"
   ]
  },
  {
   "cell_type": "markdown",
   "id": "fed25055",
   "metadata": {},
   "source": [
    "<br>\n",
    "\n",
    "### print() with Commas"
   ]
  },
  {
   "cell_type": "markdown",
   "id": "784f73b4",
   "metadata": {},
   "source": [
    "- Strings and variable names can be seperated by commas to all be printed on the same line\n",
    "- Note that the print statement automatically adds a space between elements"
   ]
  },
  {
   "cell_type": "code",
   "execution_count": null,
   "id": "4d857fce",
   "metadata": {},
   "outputs": [],
   "source": [
    "radius = 4.5\n",
    "pi = 3.14159\n",
    "area = pi * (radius ** 2)\n",
    "print(\"The area of a circle with radius\", radius, \"is:\", area)"
   ]
  },
  {
   "cell_type": "markdown",
   "id": "8d05fc07",
   "metadata": {},
   "source": [
    "<br>\n",
    "\n",
    "### String Concatonation\n",
    "- Strings can be appended together utilizing the '+' operator"
   ]
  },
  {
   "cell_type": "code",
   "execution_count": null,
   "id": "9619864b",
   "metadata": {},
   "outputs": [],
   "source": [
    "first_name = \"John\"\n",
    "last_name = \"Doe\"\n",
    "\n",
    "print(\"Full name: \" + first_name + \" \" + last_name)"
   ]
  },
  {
   "cell_type": "markdown",
   "id": "dc69f131",
   "metadata": {},
   "source": [
    "- Operators tend to work differently on strings than they do with numbers"
   ]
  },
  {
   "cell_type": "code",
   "execution_count": null,
   "id": "419cdb75",
   "metadata": {},
   "outputs": [],
   "source": [
    "word = \"Hello\"\n",
    "repeated_word = word * 3\n",
    "print(repeated_word)"
   ]
  },
  {
   "cell_type": "code",
   "execution_count": null,
   "id": "4d1c8bdc",
   "metadata": {},
   "outputs": [],
   "source": [
    "word = \"Hello\"\n",
    "repeated_word = word / 3\n",
    "print(repeated_word)"
   ]
  },
  {
   "cell_type": "markdown",
   "id": "9762c20a",
   "metadata": {},
   "source": [
    "<br>\n",
    "\n",
    "### F-Strings\n",
    "- Using f-strings (formatted string literals) to embed expressions inside string literals\n",
    "- Introduced in Python 3.6\n",
    "- Syntax: f\"string {expression} string\""
   ]
  },
  {
   "cell_type": "code",
   "execution_count": null,
   "id": "3119df47",
   "metadata": {},
   "outputs": [],
   "source": [
    "radius = 4.5\n",
    "pi = 3.14159\n",
    "area = pi * (radius ** 2)\n",
    "print(f\"The area of a circle with radius {radius} is: {area}\")"
   ]
  },
  {
   "cell_type": "markdown",
   "id": "6e0c5f62",
   "metadata": {},
   "source": [
    "<br>\n",
    "\n",
    "### % Formatting\n",
    "- Strings can also be formatted with the % symbol. \n",
    "- The formatting type must be specified: string = %s, float = %f, integer = %d"
   ]
  },
  {
   "cell_type": "code",
   "execution_count": null,
   "id": "4e694de6",
   "metadata": {},
   "outputs": [],
   "source": [
    "radius = 4.5\n",
    "pi = 3.14159\n",
    "area = pi * (radius ** 2)\n",
    "print(\"The area of a circle with radius %f is: %f\" % (radius, area))"
   ]
  },
  {
   "cell_type": "markdown",
   "id": "d8bbfb56",
   "metadata": {},
   "source": [
    "<br>\n",
    "\n",
    "### Formatting Numbers\n",
    "- Can specify the number of numbers to include before and after the decimal point"
   ]
  },
  {
   "cell_type": "code",
   "execution_count": null,
   "id": "56bda535",
   "metadata": {},
   "outputs": [],
   "source": [
    "radius = 4.5\n",
    "pi = 3.14159\n",
    "area = pi * (radius ** 2)\n",
    "\n",
    "# Format Number of Decimal Points\n",
    "print(\"The area of a circle with radius %0.2f is: %0.2f\" % (radius, area))\n",
    "print(f\"The area of a circle with radius {radius:.2f} is: {area:.2f}\")\n",
    "print()"
   ]
  },
  {
   "cell_type": "code",
   "execution_count": null,
   "id": "f94a3305",
   "metadata": {},
   "outputs": [],
   "source": [
    "# Format Number of Sig Figs (Python does what it wants)\n",
    "print(\"The area of a circle with radius %5f is: %5f\" % (radius, area))\n",
    "print(f\"The area of a circle with radius {radius:5f} is: {area:5f}\")\n",
    "print()"
   ]
  },
  {
   "cell_type": "code",
   "execution_count": null,
   "id": "81c1c5dd",
   "metadata": {},
   "outputs": [],
   "source": [
    "# Format Number of Sig Figs with limited decimal points\n",
    "print(\"The area of a circle with radius %5.0f is: %5.0f\" % (radius, area))\n",
    "print(f\"The area of a circle with radius {radius:5.0f} is: {area:5.0f}\")\n",
    "print()"
   ]
  },
  {
   "cell_type": "code",
   "execution_count": null,
   "id": "28ab49a4",
   "metadata": {},
   "outputs": [],
   "source": [
    "# Format Number of Preceeding Zeros\n",
    "print(\"The area of a circle with radius %05.2f is: %05.2f\" % (radius, area))\n",
    "print(f\"The area of a circle with radius {radius:05.2f} is: {area:05.2f}\")\n",
    "print()"
   ]
  },
  {
   "cell_type": "markdown",
   "id": "00728297",
   "metadata": {},
   "source": [
    "<br>\n",
    "\n",
    "## Type Casting\n",
    "- By default, numbers and strings can't have operations between one another."
   ]
  },
  {
   "cell_type": "code",
   "execution_count": null,
   "id": "ba1e41ac",
   "metadata": {},
   "outputs": [],
   "source": [
    "name = \"Alice\"\n",
    "age = 25\n",
    "\n",
    "print(f\"My name is \" + name + \" and I'm \" + age + \" years old.\")"
   ]
  },
  {
   "cell_type": "markdown",
   "id": "786fac29",
   "metadata": {},
   "source": [
    "- Python has inbuilt casting operators int(), float(), str() to convert types between one another"
   ]
  },
  {
   "cell_type": "code",
   "execution_count": null,
   "id": "d53bfd9c",
   "metadata": {},
   "outputs": [],
   "source": [
    "name = \"Alice\"\n",
    "age = 25\n",
    "\n",
    "print(f\"My name is \" + name + \" and I'm \" + str(age) + \" years old.\")"
   ]
  },
  {
   "cell_type": "markdown",
   "id": "2f961f98",
   "metadata": {},
   "source": [
    "- Also works in reverse"
   ]
  },
  {
   "cell_type": "code",
   "execution_count": null,
   "id": "77a3140a",
   "metadata": {},
   "outputs": [],
   "source": [
    "checkings = 500\n",
    "cost = \"50\"\n",
    "\n",
    "remaining = checkings - int(cost)"
   ]
  },
  {
   "cell_type": "markdown",
   "id": "84bd33f6",
   "metadata": {},
   "source": [
    "- So long as it makes sense..."
   ]
  },
  {
   "cell_type": "code",
   "execution_count": null,
   "id": "aace7f9d",
   "metadata": {},
   "outputs": [],
   "source": [
    "checkings = 500\n",
    "cost = \"fifty\"\n",
    "\n",
    "remaining = checkings - int(cost)"
   ]
  },
  {
   "cell_type": "markdown",
   "id": "48cd5c5e",
   "metadata": {},
   "source": [
    "<br>\n",
    "\n",
    "## Object-Oriented Programming (OOP) Basics\n",
    "- Objects are instances of classes that encapsulate data and behavior\n",
    "- Classes define the structure and behavior of objects\n",
    "- Dot notation is used to access object properties and methods\n",
    "- Methods are functions associated with objects and are called using dot notation"
   ]
  },
  {
   "cell_type": "markdown",
   "id": "b1ca7c7f",
   "metadata": {},
   "source": [
    "<br>\n",
    "\n",
    "### Inbuilt String Object"
   ]
  },
  {
   "cell_type": "code",
   "execution_count": null,
   "id": "c3de5824",
   "metadata": {},
   "outputs": [],
   "source": [
    "message = \"Hello, World!\"\n",
    "print(message.lower())  # Convert to lowercase\n",
    "print(message.upper())  # Convert to uppercase\n",
    "print(message.replace(\"World\", \"Python\"))  # Replace a substring"
   ]
  },
  {
   "cell_type": "markdown",
   "id": "d97724db",
   "metadata": {},
   "source": [
    "<br>\n",
    "\n",
    "### Importing External Libraries\n",
    "- Functions implemented outside what's included in default Python can be imported as a library/module"
   ]
  },
  {
   "cell_type": "markdown",
   "id": "a02aba78",
   "metadata": {},
   "source": [
    "#### Math Library\n",
    "- Python provides the math library for advanced mathematical operations\n",
    "- Functions include sqrt, ceil, floor, fabs, log, etc."
   ]
  },
  {
   "cell_type": "code",
   "execution_count": null,
   "id": "8cbdecb0",
   "metadata": {},
   "outputs": [],
   "source": [
    "import math\n",
    "\n",
    "area = 100\n",
    "radius = math.sqrt(area / math.pi)\n",
    "print(\"Radius:\", radius)"
   ]
  },
  {
   "cell_type": "markdown",
   "id": "a3fd3e63",
   "metadata": {},
   "source": [
    "#### Image Library\n",
    "- Images are composed of pixels arranged in a grid\n",
    "- Each pixel has a color represented by a combination of red, green, and blue (RGB) values\n",
    "- Python provides libraries like `PIL` (Python Imaging Library) for image processing"
   ]
  },
  {
   "cell_type": "code",
   "execution_count": null,
   "id": "f1999a47",
   "metadata": {},
   "outputs": [],
   "source": [
    "from PIL import Image\n",
    "import requests\n",
    "\n",
    "url = \"https://365datascience.com/resources/blog/2017-11-Programming-in-900-words-min.png\"\n",
    "image = Image.open(requests.get(url, stream=True).raw)\n",
    "\n",
    "# Convert the image to grayscale\n",
    "grayscale_image = image.convert(\"L\")\n",
    "grayscale_image.show()\n",
    "\n",
    "# Resize the image\n",
    "resized_image = image.resize((400, 300))\n",
    "resized_image.show()\n",
    "\n",
    "# Crop the image\n",
    "cropped_image = image.crop((100, 100, 300, 300))\n",
    "cropped_image.show()\n",
    "\n",
    "# Get the size of the image\n",
    "width, height = image.size\n",
    "print(\"Image size:\", width, \"x\", height)\n",
    "\n",
    "# Rotate the image by 90 degrees\n",
    "rotated_image = image.rotate(90)\n",
    "rotated_image.show()"
   ]
  },
  {
   "cell_type": "markdown",
   "id": "6730563b",
   "metadata": {},
   "source": [
    "<br>\n",
    "\n",
    "# Recap and Key Takeaways\n",
    "- Variables are used to store and manipulate data\n",
    "- Follow variable naming rules and conventions\n",
    "- Comments are used to add explanatory notes to code\n",
    "- Understanding data types is crucial for working with variables and expressions effectively\n",
    "- Use type conversion functions to convert between different data types\n",
    "- Use arithmetic expressions to perform calculations\n",
    "- Understand the order of operations and operator precedence\n",
    "- Strings are sequences of characters and can be manipulated using various operations\n",
    "- Utilize f-strings for convenient string formatting\n",
    "- Objects are instances of classes and encapsulate data and behavior\n",
    "- Utilize the math library for more advanced mathematical functions\n",
    "- Utilize the PIL library to manipulate image data"
   ]
  }
 ],
 "metadata": {
  "kernelspec": {
   "display_name": "Python 3 (ipykernel)",
   "language": "python",
   "name": "python3"
  },
  "language_info": {
   "codemirror_mode": {
    "name": "ipython",
    "version": 3
   },
   "file_extension": ".py",
   "mimetype": "text/x-python",
   "name": "python",
   "nbconvert_exporter": "python",
   "pygments_lexer": "ipython3",
   "version": "3.10.8"
  }
 },
 "nbformat": 4,
 "nbformat_minor": 5
}
